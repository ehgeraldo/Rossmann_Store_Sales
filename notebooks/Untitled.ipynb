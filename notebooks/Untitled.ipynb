{
 "cells": [
  {
   "cell_type": "code",
   "execution_count": 5,
   "id": "9f699154",
   "metadata": {
    "ExecuteTime": {
     "end_time": "2023-03-10T11:53:09.800521Z",
     "start_time": "2023-03-10T11:53:09.797653Z"
    }
   },
   "outputs": [],
   "source": [
    "def parabens():\n",
    "    print('Meus parabéns pelo seu aniversário')"
   ]
  },
  {
   "cell_type": "code",
   "execution_count": 6,
   "id": "3a4117ec",
   "metadata": {
    "ExecuteTime": {
     "end_time": "2023-03-10T11:53:21.079676Z",
     "start_time": "2023-03-10T11:53:21.075873Z"
    }
   },
   "outputs": [
    {
     "name": "stdout",
     "output_type": "stream",
     "text": [
      "Meus parabéns pelo seu aniversário\n"
     ]
    }
   ],
   "source": [
    "parabens()"
   ]
  },
  {
   "cell_type": "code",
   "execution_count": 3,
   "id": "db0a568e",
   "metadata": {
    "ExecuteTime": {
     "end_time": "2023-03-10T12:10:15.477161Z",
     "start_time": "2023-03-10T12:10:15.473069Z"
    }
   },
   "outputs": [],
   "source": [
    "def temletraU():\n",
    "    frase = input('Digite uma frase...')\n",
    "    if 'u' in frase:\n",
    "        print('tem a vogal U na frase digitada')\n",
    "    else:\n",
    "        print('Você não digitou a vogal U')"
   ]
  },
  {
   "cell_type": "code",
   "execution_count": 5,
   "id": "b62bc652",
   "metadata": {
    "ExecuteTime": {
     "end_time": "2023-03-10T12:10:38.727455Z",
     "start_time": "2023-03-10T12:10:30.247919Z"
    }
   },
   "outputs": [
    {
     "name": "stdout",
     "output_type": "stream",
     "text": [
      "Digite uma frase...voce está ultra feliz\n",
      "tem a vogal U na frase digitada\n"
     ]
    }
   ],
   "source": [
    "temletraU()"
   ]
  },
  {
   "cell_type": "code",
   "execution_count": 7,
   "id": "33520aab",
   "metadata": {
    "ExecuteTime": {
     "end_time": "2023-03-10T12:18:51.896450Z",
     "start_time": "2023-03-10T12:18:51.891796Z"
    }
   },
   "outputs": [],
   "source": [
    "def somanumeros(a,b):\n",
    "    somanumeros = a + b\n",
    "    print('A soma dos dois números escolhidos é:{}'.format(somanumeros))"
   ]
  },
  {
   "cell_type": "code",
   "execution_count": 8,
   "id": "3e4411f4",
   "metadata": {
    "ExecuteTime": {
     "end_time": "2023-03-10T12:20:26.787888Z",
     "start_time": "2023-03-10T12:20:26.784516Z"
    }
   },
   "outputs": [
    {
     "name": "stdout",
     "output_type": "stream",
     "text": [
      "A soma dos dois números escolhidos é:3\n"
     ]
    }
   ],
   "source": [
    "somanumeros(1,2)"
   ]
  },
  {
   "cell_type": "code",
   "execution_count": 9,
   "id": "00a4d497",
   "metadata": {
    "ExecuteTime": {
     "end_time": "2023-03-10T12:20:38.906213Z",
     "start_time": "2023-03-10T12:20:38.902576Z"
    }
   },
   "outputs": [
    {
     "name": "stdout",
     "output_type": "stream",
     "text": [
      "A soma dos dois números escolhidos é:5\n"
     ]
    }
   ],
   "source": [
    "somanumeros(1,4)"
   ]
  },
  {
   "cell_type": "code",
   "execution_count": null,
   "id": "096e419b",
   "metadata": {},
   "outputs": [],
   "source": []
  }
 ],
 "metadata": {
  "kernelspec": {
   "display_name": "Python 3 (ipykernel)",
   "language": "python",
   "name": "python3"
  },
  "language_info": {
   "codemirror_mode": {
    "name": "ipython",
    "version": 3
   },
   "file_extension": ".py",
   "mimetype": "text/x-python",
   "name": "python",
   "nbconvert_exporter": "python",
   "pygments_lexer": "ipython3",
   "version": "3.10.6"
  }
 },
 "nbformat": 4,
 "nbformat_minor": 5
}
